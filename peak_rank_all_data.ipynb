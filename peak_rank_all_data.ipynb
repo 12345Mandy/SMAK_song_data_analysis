{
  "nbformat": 4,
  "nbformat_minor": 0,
  "metadata": {
    "colab": {
      "name": "peak rank all data.ipynb",
      "provenance": [],
      "collapsed_sections": []
    },
    "kernelspec": {
      "name": "python3",
      "display_name": "Python 3"
    },
    "language_info": {
      "name": "python"
    }
  },
  "cells": [
    {
      "cell_type": "code",
      "metadata": {
        "id": "Iil-z5_1dSNA",
        "colab": {
          "base_uri": "https://localhost:8080/"
        },
        "outputId": "e0a01b4e-e2c4-4b20-f2ae-97a3cec63f7e"
      },
      "source": [
        "import numpy as np\n",
        "import pandas as pd\n",
        "import random\n",
        "import statsmodels.api as sm\n",
        "from statsmodels.tools import eval_measures\n",
        "from sklearn.metrics import r2_score\n",
        "# from util import all_variable_names_in_df, train_test_split, RANDOM_SEED\n",
        "from google.colab import files"
      ],
      "execution_count": null,
      "outputs": [
        {
          "output_type": "stream",
          "text": [
            "/usr/local/lib/python3.7/dist-packages/statsmodels/tools/_testing.py:19: FutureWarning: pandas.util.testing is deprecated. Use the functions in the public API at pandas.testing instead.\n",
            "  import pandas.util.testing as tm\n"
          ],
          "name": "stderr"
        }
      ]
    },
    {
      "cell_type": "code",
      "metadata": {
        "id": "EiIynLYSdivh",
        "colab": {
          "base_uri": "https://localhost:8080/"
        },
        "outputId": "809fe04c-2c43-4025-cf3e-ee7b55bd21cf"
      },
      "source": [
        "from google.colab import drive\n",
        "drive.mount('/content/gdrive')\n",
        "\n",
        "# I copied the train data to my main drive and named it \"Copy_of_train.csv\"\n",
        "path = \"/content/gdrive/My Drive/Copy_of_train.csv\"\n",
        "#path = \"/content/gdrive/My Drive/SMAK Data Science/train.csv\"\n",
        "with open(path, 'rb') as f:\n",
        "  train_data = pd.read_csv(f)\n",
        "print(\"Finished reading train data!\")"
      ],
      "execution_count": null,
      "outputs": [
        {
          "output_type": "stream",
          "text": [
            "Mounted at /content/gdrive\n",
            "Finished reading train data!\n"
          ],
          "name": "stdout"
        }
      ]
    },
    {
      "cell_type": "code",
      "metadata": {
        "colab": {
          "base_uri": "https://localhost:8080/"
        },
        "id": "I0mscZZ_9tYD",
        "outputId": "11b61cab-820a-4ac6-c3d4-5e068fa76032"
      },
      "source": [
        "train_data.columns"
      ],
      "execution_count": null,
      "outputs": [
        {
          "output_type": "execute_result",
          "data": {
            "text/plain": [
              "Index(['date', 'song', 'artist', 'peak_rank', 'weeks_on_board', 'spotify_id',\n",
              "       'spotify_song', 'spotify_artist', 'acousticness', 'analysis_url',\n",
              "       'danceability', 'duration_ms', 'energy', 'instrumentalness', 'key',\n",
              "       'liveness', 'loudness', 'mode', 'speechiness', 'tempo',\n",
              "       'time_signature', 'track_href', 'type', 'uri', 'valence'],\n",
              "      dtype='object')"
            ]
          },
          "metadata": {
            "tags": []
          },
          "execution_count": 3
        }
      ]
    },
    {
      "cell_type": "code",
      "metadata": {
        "colab": {
          "base_uri": "https://localhost:8080/"
        },
        "id": "aX6eYyPherGK",
        "outputId": "ea25a880-b60c-42e5-db85-9421ed46b216"
      },
      "source": [
        "# I copied the test data to my main drive and named it \"Copy_of_test.csv\"\n",
        "path = \"/content/gdrive/My Drive/Copy_of_test.csv\"\n",
        "\n",
        "with open(path, 'rb') as f:\n",
        "  test_data = pd.read_csv(f)\n",
        "print(\"Finished reading test data!\")\n",
        "print(test_data)"
      ],
      "execution_count": null,
      "outputs": [
        {
          "output_type": "stream",
          "text": [
            "Finished reading test data!\n",
            "     date  ... valence\n",
            "0    1958  ...  0.3690\n",
            "1    1958  ...  0.4300\n",
            "2    1958  ...  0.5360\n",
            "3    1958  ...  0.4350\n",
            "4    1958  ...  0.8980\n",
            "..    ...  ...     ...\n",
            "940  2020  ...  0.6710\n",
            "941  2020  ...  0.1720\n",
            "942  2020  ...  0.0804\n",
            "943  2020  ...  0.5470\n",
            "944  2020  ...  0.5090\n",
            "\n",
            "[945 rows x 25 columns]\n"
          ],
          "name": "stdout"
        }
      ]
    },
    {
      "cell_type": "code",
      "metadata": {
        "colab": {
          "base_uri": "https://localhost:8080/"
        },
        "id": "u7-T2k5GSg3c",
        "outputId": "58d84cf8-1457-4344-b7d5-ad9e15b77a9e"
      },
      "source": [
        "import statsmodels.api as sm\n",
        "from statsmodels.tools import eval_measures\n",
        "from sklearn.metrics import r2_score\n",
        "\n",
        "IND_VAR_NAMES = ['acousticness', 'danceability', 'duration_ms', 'energy', 'instrumentalness', 'loudness', 'speechiness', 'tempo', 'valence', 'key']\n",
        "DEP_VAR_NAME = \"peak_rank\"\n",
        "\n",
        "X_train = train_data[IND_VAR_NAMES]\n",
        "X_test = test_data[IND_VAR_NAMES]\n",
        "\n",
        "y_train = train_data[DEP_VAR_NAME]\n",
        "y_test = test_data[DEP_VAR_NAME]\n",
        "\n",
        "x_train_with_constant = sm.add_constant(X_train)\n",
        "mod = sm.OLS(y_train, x_train_with_constant)\n",
        "result = mod.fit()\n",
        "\n",
        "mse_train = eval_measures.mse(y_train, result.predict(x_train_with_constant))\n",
        "\n",
        "x_test_with_constant = sm.add_constant(X_test)\n",
        "mse_test = eval_measures.mse(y_test, result.predict(x_test_with_constant))\n",
        "\n",
        "# TODO: Calculate the *test* R-squared value (using sklearn's r2_score function)\n",
        "rsquared_val = r2_score(y_test, result.predict(x_test_with_constant))\n",
        "\n",
        "# TODO: Print out the summary to see more information as needed\n",
        "print(result.summary())"
      ],
      "execution_count": null,
      "outputs": [
        {
          "output_type": "stream",
          "text": [
            "                            OLS Regression Results                            \n",
            "==============================================================================\n",
            "Dep. Variable:              peak_rank   R-squared:                       0.062\n",
            "Model:                            OLS   Adj. R-squared:                  0.059\n",
            "Method:                 Least Squares   F-statistic:                     24.49\n",
            "Date:                Tue, 27 Jul 2021   Prob (F-statistic):           2.41e-45\n",
            "Time:                        14:22:46   Log-Likelihood:                -10646.\n",
            "No. Observations:                3724   AIC:                         2.131e+04\n",
            "Df Residuals:                    3713   BIC:                         2.138e+04\n",
            "Df Model:                          10                                         \n",
            "Covariance Type:            nonrobust                                         \n",
            "====================================================================================\n",
            "                       coef    std err          t      P>|t|      [0.025      0.975]\n",
            "------------------------------------------------------------------------------------\n",
            "const                8.7884      0.780     11.271      0.000       7.260      10.317\n",
            "acousticness        -1.2089      0.339     -3.562      0.000      -1.874      -0.544\n",
            "danceability         0.1607      0.552      0.291      0.771      -0.922       1.244\n",
            "duration_ms      -2.355e-06   1.13e-06     -2.093      0.036   -4.56e-06   -1.48e-07\n",
            "energy              -1.0743      0.622     -1.727      0.084      -2.294       0.146\n",
            "instrumentalness    -0.2660      0.554     -0.481      0.631      -1.351       0.819\n",
            "loudness             0.1903      0.029      6.572      0.000       0.134       0.247\n",
            "speechiness          6.0891      0.878      6.934      0.000       4.367       7.811\n",
            "tempo               -0.0011      0.003     -0.416      0.677      -0.006       0.004\n",
            "valence             -1.8745      0.374     -5.017      0.000      -2.607      -1.142\n",
            "key                  0.0465      0.019      2.410      0.016       0.009       0.084\n",
            "==============================================================================\n",
            "Omnibus:                     1199.648   Durbin-Watson:                   0.199\n",
            "Prob(Omnibus):                  0.000   Jarque-Bera (JB):             4590.503\n",
            "Skew:                           1.562   Prob(JB):                         0.00\n",
            "Kurtosis:                       7.453   Cond. No.                     3.43e+06\n",
            "==============================================================================\n",
            "\n",
            "Warnings:\n",
            "[1] Standard Errors assume that the covariance matrix of the errors is correctly specified.\n",
            "[2] The condition number is large, 3.43e+06. This might indicate that there are\n",
            "strong multicollinearity or other numerical problems.\n"
          ],
          "name": "stdout"
        }
      ]
    },
    {
      "cell_type": "code",
      "metadata": {
        "id": "WQwF-dsxhIXp"
      },
      "source": [
        "def all_variable_names_in_df(variable_names, df):\n",
        "    \"\"\"\n",
        "    Input:\n",
        "        - variable_names: list of string, of all the variable\n",
        "                        names to check whether they're in the df or nah\n",
        "        - df: Pandas DataFrame\n",
        "\n",
        "    Output:\n",
        "        - boolean: True if all the variable names are the columns of df,\n",
        "                    False if not\n",
        "    \"\"\"\n",
        "    columns = set(df.columns)\n",
        "    for variable_name in variable_names:\n",
        "        if variable_name not in columns:\n",
        "            return False\n",
        "    return True"
      ],
      "execution_count": null,
      "outputs": []
    },
    {
      "cell_type": "code",
      "metadata": {
        "id": "deDhWVltdJKC",
        "colab": {
          "base_uri": "https://localhost:8080/"
        },
        "outputId": "abc492b7-0dfd-40dc-902e-36de38403194"
      },
      "source": [
        "def regression(train_df, test_df, ind_var_names: list, dep_var_name: str):\n",
        "    \"\"\"\n",
        "    Implement Linear Regression using StatsModel.\n",
        "\n",
        "    inputs:\n",
        "        - train_df: a Pandas DataFrame, containing all the training samples\n",
        "        - test_df: a Pandas DataFrame, containing all the testing samples\n",
        "        - ind_var_names: a list of strings of independent variable columns\n",
        "                        that we want to include in the model\n",
        "        - dep_var_name: the name of the dependent variable of our model\n",
        "    \n",
        "\n",
        "    outpus:\n",
        "        - mse_train: the mean-squared error of the model (trained on the training\n",
        "                    data), evaluated on the training dataset\n",
        "        - mse_test: the mean-squared error of the model (trained on the training\n",
        "                    data), evaluated on the testing dataset\n",
        "        - rsquared_val: the r-squared value of the model (trained on the training\n",
        "                    data), evaluated on the testing dataset\n",
        "    \"\"\"\n",
        "    ## Stencil: Error check whether the input that you provided to the function is correct or not\n",
        "    # Do not modify\n",
        "    for df in [train_df, test_df]:\n",
        "        assert all_variable_names_in_df(ind_var_names + [dep_var_name], df)\n",
        "\n",
        "    # TODO: Construct X_train, X_test, y_train, y_test from train_df and test_df, where\n",
        "    # X_train is a numpy array of all the independent variable instances from train_df,\n",
        "    # y_train is a numpy array of all the dependent variable instances from train_df,\n",
        "    # and the same applies to X_test and y_test from test_df.\n",
        "    # Hint: Look up (1) how to select a Pandas DataFrame B with a subset of columns from a given DataFrame A,\n",
        "    #           and (2) how to use Pandas .to_numpy() function.\n",
        "    X_train = train_df[ind_var_names].to_numpy()\n",
        "    X_test = test_df[ind_var_names].to_numpy()\n",
        "    y_train = train_df[dep_var_name].to_numpy()\n",
        "    y_test = test_df[dep_var_name].to_numpy()\n",
        "\n",
        "    # TODO: Using statsmodel, fit a linear regression model to the training dataset\n",
        "    # You may checkout statsmodel's documentation here: https://www.statsmodels.org/stable/regression.html\n",
        "    x_train_with_constant = sm.add_constant(X_train) ##TODO: Why???\n",
        "    mod = sm.OLS(y_train, x_train_with_constant)\n",
        "    result = mod.fit()\n",
        "\n",
        "    # TODO: Using statsmodel's eval_measures MSE calculation function,\n",
        "    # calculate the Mean-squared Error of the model above (on the training dataset)\n",
        "    mse_train = eval_measures.mse(y_train, result.predict(x_train_with_constant)) \n",
        "\n",
        "    # TODO: Similarly, calculate the Mean-squared Error of the model above (on the testing dataset)\n",
        "    x_test_with_constant = sm.add_constant(X_test) ##TODO: Why???\n",
        "    mse_test = eval_measures.mse(y_test, result.predict(x_test_with_constant)) # would the axis be 1?\n",
        "    \n",
        "    # TODO: Calculate the *test* R-squared value (using sklearn's r2_score function)\n",
        "    rsquared_val = r2_score(y_test, result.predict(x_test_with_constant))\n",
        "\n",
        "    # TODO: Print out the summary to see more information as needed\n",
        "    print(result.summary())\n",
        "\n",
        "    # TODO: Replace these values with whatever you found!\n",
        "    mse_train, mse_test, rsquared_val = mse_train, mse_test, rsquared_val\n",
        "    \n",
        "    # And return them! :)\n",
        "    return mse_train, mse_test, rsquared_val\n",
        "    \n",
        "\n",
        "def main():\n",
        "    # TODO: Load the data from the bike-sharing.csv file into a Pandas DataFrame. Do not change\n",
        "    # the variable name /data/\n",
        "    # Hint: Look at the Pandas' read_csv function\n",
        "    ###data = pd.read_csv(\"../data/bike-sharing.csv\")\n",
        "   \n",
        "\n",
        "    \n",
        "    \n",
        "    # TODO: Uncomment this to print out the column names of data to know what features there are \n",
        "    # in the dataset\n",
        "    #print(\"Columns: \", data.columns)\n",
        "\n",
        "    # TODO: Modify the list IND_VAR_NAMES to select the independent variables you want to perform\n",
        "    # a linear regression on\n",
        "    IND_VAR_NAMES = ['valence']\n",
        "    #IND_VAR_NAMES = ['energy']\n",
        "    \n",
        "\n",
        "    # Select the dependent variable name DEP_VAR_NAME (default is \"cnt\")\n",
        "    DEP_VAR_NAME = \"energy\"\n",
        "\n",
        "    # TODO: Using the imported train_test_split function (from util.py), create the train_df and\n",
        "    # test_df that will be passed into regression. $$ASK HERE!!\n",
        "    ####train_data, test_data = train_test_split(data)\n",
        "    #x_train, x_test, y_train, y_test = train_test_split(x, y) ???\n",
        "\n",
        "    # TODO: Call regression and perform other calculations as you deem necessary to answer the\n",
        "    # questions posed for this section.\n",
        "    regression(train_data, test_data, IND_VAR_NAMES, DEP_VAR_NAME)\n",
        "\n",
        "############ DON'T MODIFY BELOW THIS LINE ############\n",
        "main()\n",
        "# if __name__ == \"__main__\":\n",
        "#     np.random.seed(RANDOM_SEED)\n",
        "#     random.seed(RANDOM_SEED)\n",
        "#     main()"
      ],
      "execution_count": null,
      "outputs": [
        {
          "output_type": "stream",
          "text": [
            "                            OLS Regression Results                            \n",
            "==============================================================================\n",
            "Dep. Variable:                      y   R-squared:                       0.133\n",
            "Model:                            OLS   Adj. R-squared:                  0.133\n",
            "Method:                 Least Squares   F-statistic:                     573.3\n",
            "Date:                Mon, 26 Jul 2021   Prob (F-statistic):          5.96e-118\n",
            "Time:                        12:42:34   Log-Likelihood:                 1061.6\n",
            "No. Observations:                3724   AIC:                            -2119.\n",
            "Df Residuals:                    3722   BIC:                            -2107.\n",
            "Df Model:                           1                                         \n",
            "Covariance Type:            nonrobust                                         \n",
            "==============================================================================\n",
            "                 coef    std err          t      P>|t|      [0.025      0.975]\n",
            "------------------------------------------------------------------------------\n",
            "const          0.4371      0.008     54.672      0.000       0.421       0.453\n",
            "x1             0.2940      0.012     23.943      0.000       0.270       0.318\n",
            "==============================================================================\n",
            "Omnibus:                      106.086   Durbin-Watson:                   1.590\n",
            "Prob(Omnibus):                  0.000   Jarque-Bera (JB):               60.707\n",
            "Skew:                          -0.148   Prob(JB):                     6.57e-14\n",
            "Kurtosis:                       2.449   Cond. No.                         5.69\n",
            "==============================================================================\n",
            "\n",
            "Warnings:\n",
            "[1] Standard Errors assume that the covariance matrix of the errors is correctly specified.\n"
          ],
          "name": "stdout"
        }
      ]
    },
    {
      "cell_type": "code",
      "metadata": {
        "id": "oKgXfhUHgzX5"
      },
      "source": [
        "import seaborn as sns\n",
        "\n",
        "\n",
        "cols2 = ['date', 'weeks_on_board', 'speechiness']\n",
        "\n",
        "\n",
        "def make_all_data_scatter_plot2(metric):\n",
        "  scatter_plot = sns.scatterplot()\n",
        "\n",
        "def make_scatter_plot():\n",
        "  scatter_plot = sns.catplot(data=train_data.loc[train_data[\"date\"] >= 1990],\n",
        "  # scatter_plot = sns.catplot(data=train_data,\n",
        "            kind=\"strip\",\n",
        "            x=\"speechiness\",\n",
        "            y= \"weeks_on_board\",\n",
        "            height=5,\n",
        "            aspect=6\n",
        "            ).set(\n",
        "                title= 'energy_vs_peak_rank'\n",
        "            )\n",
        "  return scatter_plot\n",
        "\n",
        "make_scatter_plot()\n",
        "\n",
        "# def make_all_scatterplots2():\n",
        "#   for col in cols2[1:]:\n",
        "#     plot = make_scatter_plots2(col)\n",
        "#     plot.savefig(col + '_output_scatter.png')\n",
        "#     files.download(col + '_output_scatter.png')\n",
        "#   print('Done making scatterplots')\n",
        "\n",
        "# make_all_scatterplots2()"
      ],
      "execution_count": null,
      "outputs": []
    }
  ]
}