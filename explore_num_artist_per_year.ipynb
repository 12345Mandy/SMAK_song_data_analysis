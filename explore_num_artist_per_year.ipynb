{
  "nbformat": 4,
  "nbformat_minor": 0,
  "metadata": {
    "colab": {
      "name": "Explore_num_artist_per_year.ipynb",
      "provenance": [],
      "collapsed_sections": []
    },
    "kernelspec": {
      "name": "python3",
      "display_name": "Python 3"
    },
    "language_info": {
      "name": "python"
    }
  },
  "cells": [
    {
      "cell_type": "code",
      "metadata": {
        "id": "gZB3Q5NNHR9W"
      },
      "source": [
        "import numpy as np # linear algebra\n",
        "import pandas as pd # data processing, CSV file I/O (e.g. pd.read_csv)\n",
        "import pprint as pp\n",
        "import seaborn as sns\n",
        "from google.colab import files"
      ],
      "execution_count": 5,
      "outputs": []
    },
    {
      "cell_type": "code",
      "metadata": {
        "colab": {
          "base_uri": "https://localhost:8080/"
        },
        "id": "jARCbiqQcfH_",
        "outputId": "1a84a0c4-d93f-4a34-a53b-8cd4f389da36"
      },
      "source": [
        "from google.colab import drive\n",
        "drive.mount('/content/gdrive')"
      ],
      "execution_count": 6,
      "outputs": [
        {
          "output_type": "stream",
          "text": [
            "Drive already mounted at /content/gdrive; to attempt to forcibly remount, call drive.mount(\"/content/gdrive\", force_remount=True).\n"
          ],
          "name": "stdout"
        }
      ]
    },
    {
      "cell_type": "code",
      "metadata": {
        "colab": {
          "base_uri": "https://localhost:8080/"
        },
        "id": "UnfmAYJOchXK",
        "outputId": "19ad265f-6acd-42a9-b119-39c3c4a41cda"
      },
      "source": [
        "# I copied the train data to my main drive and named it \"Copy_of_train.csv\"\n",
        "path = \"/content/gdrive/My Drive/Copy_of_train.csv\"\n",
        "#path = \"/content/gdrive/My Drive/SMAK Data Science/train.csv\"\n",
        "with open(path, 'rb') as f:\n",
        "  df = pd.read_csv(f)\n",
        "print(\"Finished reading data!\")"
      ],
      "execution_count": 7,
      "outputs": [
        {
          "output_type": "stream",
          "text": [
            "Finished reading data!\n"
          ],
          "name": "stdout"
        }
      ]
    },
    {
      "cell_type": "code",
      "metadata": {
        "id": "A5FhH4A7daaH",
        "colab": {
          "base_uri": "https://localhost:8080/",
          "height": 411
        },
        "outputId": "a8af7502-c87e-4570-dcda-a5ff852f6932"
      },
      "source": [
        "df.head()"
      ],
      "execution_count": 8,
      "outputs": [
        {
          "output_type": "execute_result",
          "data": {
            "text/html": [
              "<div>\n",
              "<style scoped>\n",
              "    .dataframe tbody tr th:only-of-type {\n",
              "        vertical-align: middle;\n",
              "    }\n",
              "\n",
              "    .dataframe tbody tr th {\n",
              "        vertical-align: top;\n",
              "    }\n",
              "\n",
              "    .dataframe thead th {\n",
              "        text-align: right;\n",
              "    }\n",
              "</style>\n",
              "<table border=\"1\" class=\"dataframe\">\n",
              "  <thead>\n",
              "    <tr style=\"text-align: right;\">\n",
              "      <th></th>\n",
              "      <th>date</th>\n",
              "      <th>song</th>\n",
              "      <th>artist</th>\n",
              "      <th>peak_rank</th>\n",
              "      <th>weeks_on_board</th>\n",
              "      <th>spotify_id</th>\n",
              "      <th>spotify_song</th>\n",
              "      <th>spotify_artist</th>\n",
              "      <th>acousticness</th>\n",
              "      <th>analysis_url</th>\n",
              "      <th>danceability</th>\n",
              "      <th>duration_ms</th>\n",
              "      <th>energy</th>\n",
              "      <th>instrumentalness</th>\n",
              "      <th>key</th>\n",
              "      <th>liveness</th>\n",
              "      <th>loudness</th>\n",
              "      <th>mode</th>\n",
              "      <th>speechiness</th>\n",
              "      <th>tempo</th>\n",
              "      <th>time_signature</th>\n",
              "      <th>track_href</th>\n",
              "      <th>type</th>\n",
              "      <th>uri</th>\n",
              "      <th>valence</th>\n",
              "    </tr>\n",
              "  </thead>\n",
              "  <tbody>\n",
              "    <tr>\n",
              "      <th>0</th>\n",
              "      <td>1958</td>\n",
              "      <td>Poor Little Fool</td>\n",
              "      <td>Ricky Nelson</td>\n",
              "      <td>1</td>\n",
              "      <td>11</td>\n",
              "      <td>0p1c2oNEQDd9MF1H3R9p3z</td>\n",
              "      <td>Poor Little Fool</td>\n",
              "      <td>Ricky Nelson</td>\n",
              "      <td>0.6710</td>\n",
              "      <td>https://api.spotify.com/v1/audio-analysis/0p1c...</td>\n",
              "      <td>0.534</td>\n",
              "      <td>153960</td>\n",
              "      <td>0.493</td>\n",
              "      <td>0.000007</td>\n",
              "      <td>0</td>\n",
              "      <td>0.214</td>\n",
              "      <td>-7.008</td>\n",
              "      <td>1</td>\n",
              "      <td>0.0304</td>\n",
              "      <td>155.507</td>\n",
              "      <td>4</td>\n",
              "      <td>https://api.spotify.com/v1/tracks/0p1c2oNEQDd9...</td>\n",
              "      <td>audio_features</td>\n",
              "      <td>spotify:track:0p1c2oNEQDd9MF1H3R9p3z</td>\n",
              "      <td>0.795</td>\n",
              "    </tr>\n",
              "    <tr>\n",
              "      <th>1</th>\n",
              "      <td>1958</td>\n",
              "      <td>Rock-in Robin</td>\n",
              "      <td>Bobby Day</td>\n",
              "      <td>2</td>\n",
              "      <td>21</td>\n",
              "      <td>4FlYcJnfkeBpowEHJ72Bmt</td>\n",
              "      <td>Rockin' Robin</td>\n",
              "      <td>Bobby Day</td>\n",
              "      <td>0.2980</td>\n",
              "      <td>https://api.spotify.com/v1/audio-analysis/4FlY...</td>\n",
              "      <td>0.541</td>\n",
              "      <td>160080</td>\n",
              "      <td>0.608</td>\n",
              "      <td>0.000000</td>\n",
              "      <td>7</td>\n",
              "      <td>0.234</td>\n",
              "      <td>-13.083</td>\n",
              "      <td>1</td>\n",
              "      <td>0.1060</td>\n",
              "      <td>171.992</td>\n",
              "      <td>4</td>\n",
              "      <td>https://api.spotify.com/v1/tracks/4FlYcJnfkeBp...</td>\n",
              "      <td>audio_features</td>\n",
              "      <td>spotify:track:4FlYcJnfkeBpowEHJ72Bmt</td>\n",
              "      <td>0.938</td>\n",
              "    </tr>\n",
              "    <tr>\n",
              "      <th>2</th>\n",
              "      <td>1958</td>\n",
              "      <td>Bird Dog</td>\n",
              "      <td>The Everly Brothers</td>\n",
              "      <td>2</td>\n",
              "      <td>18</td>\n",
              "      <td>2ZCkqAo0tzzCVOth7ityh5</td>\n",
              "      <td>Bird Dog</td>\n",
              "      <td>The Everly Brothers</td>\n",
              "      <td>0.6860</td>\n",
              "      <td>https://api.spotify.com/v1/audio-analysis/2ZCk...</td>\n",
              "      <td>0.658</td>\n",
              "      <td>136427</td>\n",
              "      <td>0.706</td>\n",
              "      <td>0.000002</td>\n",
              "      <td>11</td>\n",
              "      <td>0.166</td>\n",
              "      <td>-9.076</td>\n",
              "      <td>1</td>\n",
              "      <td>0.0354</td>\n",
              "      <td>141.194</td>\n",
              "      <td>4</td>\n",
              "      <td>https://api.spotify.com/v1/tracks/2ZCkqAo0tzzC...</td>\n",
              "      <td>audio_features</td>\n",
              "      <td>spotify:track:2ZCkqAo0tzzCVOth7ityh5</td>\n",
              "      <td>0.965</td>\n",
              "    </tr>\n",
              "    <tr>\n",
              "      <th>3</th>\n",
              "      <td>1958</td>\n",
              "      <td>Patricia</td>\n",
              "      <td>Perez Prado And His Orchestra</td>\n",
              "      <td>2</td>\n",
              "      <td>14</td>\n",
              "      <td>205EtD8tQnHDXMkmtYiaHF</td>\n",
              "      <td>Patricia</td>\n",
              "      <td>Pérez Prado</td>\n",
              "      <td>0.0862</td>\n",
              "      <td>https://api.spotify.com/v1/audio-analysis/205E...</td>\n",
              "      <td>0.704</td>\n",
              "      <td>140867</td>\n",
              "      <td>0.638</td>\n",
              "      <td>0.251000</td>\n",
              "      <td>1</td>\n",
              "      <td>0.115</td>\n",
              "      <td>-9.522</td>\n",
              "      <td>1</td>\n",
              "      <td>0.0457</td>\n",
              "      <td>137.396</td>\n",
              "      <td>4</td>\n",
              "      <td>https://api.spotify.com/v1/tracks/205EtD8tQnHD...</td>\n",
              "      <td>audio_features</td>\n",
              "      <td>spotify:track:205EtD8tQnHDXMkmtYiaHF</td>\n",
              "      <td>0.837</td>\n",
              "    </tr>\n",
              "    <tr>\n",
              "      <th>4</th>\n",
              "      <td>1958</td>\n",
              "      <td>My True Love</td>\n",
              "      <td>Jack Scott</td>\n",
              "      <td>3</td>\n",
              "      <td>14</td>\n",
              "      <td>2Un1O9CChp4wyTmt422XwW</td>\n",
              "      <td>My True Love</td>\n",
              "      <td>Jack Scott</td>\n",
              "      <td>0.8710</td>\n",
              "      <td>https://api.spotify.com/v1/audio-analysis/2Un1...</td>\n",
              "      <td>0.548</td>\n",
              "      <td>165027</td>\n",
              "      <td>0.253</td>\n",
              "      <td>0.000099</td>\n",
              "      <td>4</td>\n",
              "      <td>0.138</td>\n",
              "      <td>-11.387</td>\n",
              "      <td>1</td>\n",
              "      <td>0.0279</td>\n",
              "      <td>68.184</td>\n",
              "      <td>3</td>\n",
              "      <td>https://api.spotify.com/v1/tracks/2Un1O9CChp4w...</td>\n",
              "      <td>audio_features</td>\n",
              "      <td>spotify:track:2Un1O9CChp4wyTmt422XwW</td>\n",
              "      <td>0.238</td>\n",
              "    </tr>\n",
              "  </tbody>\n",
              "</table>\n",
              "</div>"
            ],
            "text/plain": [
              "   date              song  ...                                   uri  valence\n",
              "0  1958  Poor Little Fool  ...  spotify:track:0p1c2oNEQDd9MF1H3R9p3z    0.795\n",
              "1  1958     Rock-in Robin  ...  spotify:track:4FlYcJnfkeBpowEHJ72Bmt    0.938\n",
              "2  1958          Bird Dog  ...  spotify:track:2ZCkqAo0tzzCVOth7ityh5    0.965\n",
              "3  1958          Patricia  ...  spotify:track:205EtD8tQnHDXMkmtYiaHF    0.837\n",
              "4  1958      My True Love  ...  spotify:track:2Un1O9CChp4wyTmt422XwW    0.238\n",
              "\n",
              "[5 rows x 25 columns]"
            ]
          },
          "metadata": {
            "tags": []
          },
          "execution_count": 8
        }
      ]
    },
    {
      "cell_type": "code",
      "metadata": {
        "id": "F2PHwydLHXxb"
      },
      "source": [
        "#df = pd.read_csv(\"/pop_songs_data.csv\")"
      ],
      "execution_count": 9,
      "outputs": []
    },
    {
      "cell_type": "code",
      "metadata": {
        "colab": {
          "base_uri": "https://localhost:8080/"
        },
        "id": "N1NVlUMnpfVH",
        "outputId": "c049b44c-b5c3-403b-9c98-64e259412a98"
      },
      "source": [
        "year_artist_uniq = []\n",
        "\n",
        "for year in range(1958, 2021):\n",
        "    this_year = df.loc[df['date'] == year]\n",
        "    # date, avg_peak_rank, avg_weaks_on_board, avg_accousticness, avg_danceability, avg_duration_ms, \n",
        "    # avg_energy, avg_instrumentalness, avg_liveness, avg_loudness, avg_speechiness, avg_tempo, avg_valence\n",
        "    this_info = []\n",
        "    for col in ['artist']:\n",
        "        this_info.append(this_year[col])\n",
        "        info_arr = np.array(this_info)\n",
        "    year_artist_uniq.append([year, len(np.unique(info_arr))])\n",
        "\n",
        "pp.pprint(year_artist_uniq[0])"
      ],
      "execution_count": 10,
      "outputs": [
        {
          "output_type": "stream",
          "text": [
            "[1958, 48]\n"
          ],
          "name": "stdout"
        }
      ]
    },
    {
      "cell_type": "code",
      "metadata": {
        "id": "_QD9k77aHYa3"
      },
      "source": [
        "# I commented this out\n",
        "year_avg_data = []\n",
        "\n",
        "for year in range(1958, 2021):\n",
        "    this_year = df.loc[df['date'] == year]\n",
        "    # date, avg_peak_rank, avg_weaks_on_board, avg_accousticness, avg_danceability, avg_duration_ms, \n",
        "    # avg_energy, avg_instrumentalness, avg_liveness, avg_loudness, avg_speechiness, avg_tempo, avg_valence\n",
        "    this_info = []\n",
        "    for col in ['date', 'peak_rank', 'weeks_on_board', 'acousticness', 'danceability', 'duration_ms', 'energy', \n",
        "                'instrumentalness', 'liveness', 'loudness', 'speechiness', 'tempo', 'valence']:\n",
        "        this_info.append(this_year[col].mean())\n",
        "    year_avg_data.append(this_info)\n",
        "    "
      ],
      "execution_count": 11,
      "outputs": []
    },
    {
      "cell_type": "code",
      "metadata": {
        "id": "LjYUxRvuHYiA"
      },
      "source": [
        "#pp.pprint(year_avg_data)"
      ],
      "execution_count": 12,
      "outputs": []
    },
    {
      "cell_type": "code",
      "metadata": {
        "id": "-FyKnn9GfCuH"
      },
      "source": [
        "cols = ['date', 'avg_peak_rank', 'avg_weaks_on_board', 'avg_accousticness', \n",
        "        'avg_danceability', 'avg_duration_ms', 'avg_energy', 'avg_instrumentalness', \n",
        "        'avg_liveness', 'avg_loudness', 'avg_speechiness', 'avg_tempo', 'avg_valence']"
      ],
      "execution_count": 13,
      "outputs": []
    },
    {
      "cell_type": "code",
      "metadata": {
        "id": "sduGZlm-HYkx"
      },
      "source": [
        "year_avgs_df = pd.DataFrame(year_avg_data, columns=cols)"
      ],
      "execution_count": 14,
      "outputs": []
    },
    {
      "cell_type": "code",
      "metadata": {
        "id": "DN_QnB9sNP0C"
      },
      "source": [
        "year_artist_uniq_df = pd.DataFrame(year_artist_uniq, columns=['date', 'artist_num'])"
      ],
      "execution_count": 15,
      "outputs": []
    },
    {
      "cell_type": "code",
      "metadata": {
        "id": "ZXqlHNEjZWJQ"
      },
      "source": [
        "def make_all_data_scatter_plot(metric):\n",
        "  curr_data = df.loc[df[metric]]\n",
        "  scatter_plot = sns.scatterplot()"
      ],
      "execution_count": 16,
      "outputs": []
    },
    {
      "cell_type": "code",
      "metadata": {
        "id": "keAzN8yLfKSz"
      },
      "source": [
        "def make_bar_plot(for_y):\n",
        "  bar_plot = sns.catplot(data=year_avgs_df,\n",
        "            kind=\"bar\",\n",
        "            x='date',\n",
        "            y= for_y,\n",
        "            height=5,\n",
        "            aspect=6\n",
        "            ).set(\n",
        "                title= for_y + ' per year'\n",
        "            )\n",
        "  return bar_plot"
      ],
      "execution_count": 17,
      "outputs": []
    },
    {
      "cell_type": "code",
      "metadata": {
        "id": "FBIKoG0xNgTr"
      },
      "source": [
        "def make_bar_plot_artist_uniq():\n",
        "  bar_plot = sns.lineplot(data=year_artist_uniq_df,\n",
        "            x='date',\n",
        "            y='artist_num',\n",
        "            ).set(\n",
        "                title= \"artist_num\" + ' per year'\n",
        "            )\n",
        "  return bar_plot"
      ],
      "execution_count": 18,
      "outputs": []
    },
    {
      "cell_type": "code",
      "metadata": {
        "colab": {
          "base_uri": "https://localhost:8080/",
          "height": 295
        },
        "id": "TnQtO2YOOZaf",
        "outputId": "a3628b64-3ad6-4eaa-9366-2f5b9a07004f"
      },
      "source": [
        "def print_bar_plot_artist_uniq():\n",
        "    plot = make_bar_plot_artist_uniq()\n",
        "    # plot.savefig(\"artist_uniq\" + '_output.png')\n",
        "    # files.download(\"artist_uniq\" + '_output.png')\n",
        "\n",
        "print_bar_plot_artist_uniq()\n"
      ],
      "execution_count": 20,
      "outputs": [
        {
          "output_type": "display_data",
          "data": {
            "image/png": "[encoded data removed]",
            "text/plain": [
              "<Figure size 432x288 with 1 Axes>"
            ]
          },
          "metadata": {
            "tags": [],
            "needs_background": "light"
          }
        }
      ]
    }
  ]
}